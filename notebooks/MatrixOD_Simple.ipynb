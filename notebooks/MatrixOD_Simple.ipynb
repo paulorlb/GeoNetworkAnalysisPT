{
 "cells": [
  {
   "cell_type": "markdown",
   "metadata": {},
   "source": [
    "# NOTEBOOK SETUP"
   ]
  },
  {
   "cell_type": "markdown",
   "metadata": {},
   "source": [
    "## IMPORT REQUIRED LIBRARIES"
   ]
  },
  {
   "cell_type": "code",
   "execution_count": 35,
   "metadata": {},
   "outputs": [],
   "source": [
    "import os\n",
    "os.environ['USE_PYGEOS'] = '0'\n",
    "import sys\n",
    "sys.path.append(os.path.realpath('..'))\n",
    "from pathlib import Path\n",
    "\n",
    "import sys\n",
    "import importlib\n",
    "\n",
    "import pandas as pd\n",
    "import numpy as np\n",
    "import itertools\n",
    "\n",
    "import geopandas as gpd\n",
    "import fiona\n",
    "\n",
    "\n",
    "\n",
    "\n",
    "import pyrosm\n",
    "\n",
    "import osmnx as ox\n",
    "import networkx as nx\n",
    "import pandana as pdna\n",
    "\n",
    "from io import BytesIO\n",
    "from zipfile import ZipFile\n",
    "from urllib.request import urlopen\n",
    "import urllib.request\n",
    "import zipfile\n",
    "\n",
    "import matplotlib\n",
    "import matplotlib.pyplot as plt\n",
    "\n",
    "import time\n",
    "\n",
    "\n",
    "\n",
    "\n"
   ]
  },
  {
   "cell_type": "code",
   "execution_count": 2,
   "metadata": {},
   "outputs": [
    {
     "data": {
      "text/plain": [
       "'c:\\\\Users\\\\pbatista\\\\OneDrive - inegi.up.pt\\\\APP_PROJECTS\\\\GeoNetworkAnalysis_PT\\\\notebooks'"
      ]
     },
     "execution_count": 2,
     "metadata": {},
     "output_type": "execute_result"
    }
   ],
   "source": [
    "os.getcwd()"
   ]
  },
  {
   "cell_type": "markdown",
   "metadata": {},
   "source": [
    "# FOLDER PATHS"
   ]
  },
  {
   "cell_type": "code",
   "execution_count": 3,
   "metadata": {},
   "outputs": [],
   "source": [
    "# path_PC = \"C:/Users/pauloricardolb/\"\n",
    "path_PC = r'C:\\Users\\pbatista'\n",
    "\n",
    "\n",
    "project_path = r'.'\n",
    "\n",
    "path_inputs = r'..\\data\\data_inputs'\n",
    "\n"
   ]
  },
  {
   "cell_type": "markdown",
   "metadata": {},
   "source": [
    "# GET OFFICIAL ADMIN GEODATA (for PT)"
   ]
  },
  {
   "cell_type": "code",
   "execution_count": 4,
   "metadata": {},
   "outputs": [],
   "source": [
    "# Data source: \"Direção-Geral do Território (DGT) - Portugal\"\n",
    "# More detailed data on https://www.dgterritorio.gov.pt/cartografia/cartografia-tematica/caop\n",
    "# Data is available in the \"GeoPackage\" format \"gpkg\", which is a standard open format for spatial data storage and exchange\n",
    "\n",
    "url = 'https://geo2.dgterritorio.gov.pt/caop/CAOP_Continente_2023-gpkg.zip'\n",
    "filehandle, _ = urllib.request.urlretrieve(url)\n",
    "zip_file_object = zipfile.ZipFile(filehandle, 'r')\n",
    "zip_file_object.extractall( os.path.join(os.getcwd(), path_inputs) )\n",
    "zip_file_object.close()\n"
   ]
  },
  {
   "cell_type": "code",
   "execution_count": 5,
   "metadata": {},
   "outputs": [
    {
     "name": "stdout",
     "output_type": "stream",
     "text": [
      "['Cont_AAD_CAOP2023', 'Cont_Dist_CAOP2023', 'Cont_Freg_CAOP2023', 'Cont_Mun_CAOP2023', 'Cont_NUTSI_CAOP2023', 'Cont_NUTSII_CAOP2023', 'Cont_NUTSIII_CAOP2023', 'Cont_Troco_CAOP2023', 'layer_styles']\n"
     ]
    }
   ],
   "source": [
    "# See which layers are available in the (geo)database file\n",
    "# It has layers for the mainland Portugal at different administrative levels (parishes, municipalities, NUTSIII/Intermunicipality Regions, etc.)\n",
    "# Mainly of the layers are polygons, but there are also lines versions of the parishes boundaries\n",
    "\n",
    "print(fiona.listlayers(path_inputs + r'\\Continente_CAOP2023.gpkg'))"
   ]
  },
  {
   "cell_type": "code",
   "execution_count": 6,
   "metadata": {},
   "outputs": [
    {
     "data": {
      "text/html": [
       "<div>\n",
       "<style scoped>\n",
       "    .dataframe tbody tr th:only-of-type {\n",
       "        vertical-align: middle;\n",
       "    }\n",
       "\n",
       "    .dataframe tbody tr th {\n",
       "        vertical-align: top;\n",
       "    }\n",
       "\n",
       "    .dataframe thead th {\n",
       "        text-align: right;\n",
       "    }\n",
       "</style>\n",
       "<table border=\"1\" class=\"dataframe\">\n",
       "  <thead>\n",
       "    <tr style=\"text-align: right;\">\n",
       "      <th></th>\n",
       "      <th>NUTI_COD</th>\n",
       "      <th>NUTI_DSG</th>\n",
       "      <th>N_Freguesi</th>\n",
       "      <th>Area_ha</th>\n",
       "      <th>geometry</th>\n",
       "    </tr>\n",
       "  </thead>\n",
       "  <tbody>\n",
       "    <tr>\n",
       "      <th>0</th>\n",
       "      <td>1</td>\n",
       "      <td>Continente</td>\n",
       "      <td>2882</td>\n",
       "      <td>8910214.28</td>\n",
       "      <td>MULTIPOLYGON (((-69674.530 -294276.294, -69681...</td>\n",
       "    </tr>\n",
       "  </tbody>\n",
       "</table>\n",
       "</div>"
      ],
      "text/plain": [
       "  NUTI_COD    NUTI_DSG  N_Freguesi     Area_ha  \\\n",
       "0        1  Continente        2882  8910214.28   \n",
       "\n",
       "                                            geometry  \n",
       "0  MULTIPOLYGON (((-69674.530 -294276.294, -69681...  "
      ]
     },
     "execution_count": 6,
     "metadata": {},
     "output_type": "execute_result"
    }
   ],
   "source": [
    "# The layeres can be read as GeoDataFrames and manipulated accordingly\n",
    "# For example, the layer \"Cont_AAD_CAOP2023\" contains the boundaries of the parishes in mainland Portugal\n",
    "# The following code reads the layer for Portugal mainlan as a unique polygons (NUTS I level) and plots it\n",
    "\n",
    "\n",
    "gdf_Cont_NUTSI_CAOP2023 = gpd.read_file(path_inputs + r'\\Continente_CAOP2023.gpkg', layer='Cont_NUTSI_CAOP2023')\n",
    "gdf_Cont_NUTSI_CAOP2023.head(3)\n",
    "\n",
    "\n",
    "\n"
   ]
  },
  {
   "cell_type": "code",
   "execution_count": 7,
   "metadata": {},
   "outputs": [
    {
     "data": {
      "text/plain": [
       "<Axes: >"
      ]
     },
     "execution_count": 7,
     "metadata": {},
     "output_type": "execute_result"
    },
    {
     "data": {
      "image/png": "[encoded data removed]",
      "text/plain": [
       "<Figure size 640x480 with 1 Axes>"
      ]
     },
     "metadata": {},
     "output_type": "display_data"
    }
   ],
   "source": [
    "gdf_Cont_NUTSI_CAOP2023.plot()"
   ]
  },
  {
   "cell_type": "code",
   "execution_count": 8,
   "metadata": {},
   "outputs": [
    {
     "name": "stdout",
     "output_type": "stream",
     "text": [
      "ORIGINAL COORDINATE SYSTEM:\n",
      "EPSG:3763\n",
      "NEW - WGS84 - COORDINATE SYSTEM: \n",
      "EPSG:4326\n"
     ]
    }
   ],
   "source": [
    "# Note that the geo data is in the \"EPSG:3763\" coordinate system, which is the official coordinate system for Portugal and it is a projected coordinate system\n",
    "# To use with international data, it is better to use the \"EPSG:4326\" coordinate system, which is the standard coordinate system for GPS and other global georeferencing systems\n",
    "print(\"ORIGINAL COORDINATE SYSTEM:\") \n",
    "print(gdf_Cont_NUTSI_CAOP2023.crs)\n",
    "\n",
    "# The following code reprojects the data to the \"EPSG:4326\" coordinate system\n",
    "gdf_Cont_NUTSI_CAOP2023_wgs84 = gdf_Cont_NUTSI_CAOP2023.to_crs(epsg=4326)\n",
    "\n",
    "print(\"NEW - WGS84 - COORDINATE SYSTEM: \")\n",
    "print(gdf_Cont_NUTSI_CAOP2023_wgs84.crs)"
   ]
  },
  {
   "cell_type": "markdown",
   "metadata": {},
   "source": [
    "# GET OSM (OPEN STREET MAPS) DATA\n",
    "\n",
    "Sugested data source: https://download.geofabrik.de/"
   ]
  },
  {
   "cell_type": "code",
   "execution_count": 9,
   "metadata": {},
   "outputs": [],
   "source": [
    "def download_osm_file(url, save_to, filename) :\n",
    "    # url     - url of downloadable file\n",
    "    # save_to - directory to save the file to\n",
    "    \n",
    "    from os import chdir, getcwd\n",
    "    from requests import get\n",
    "    \n",
    "    print(\"downloading from url:\", url)       \n",
    "    req = get(url)\n",
    "    chdir(save_to)\n",
    "    \n",
    "    print(\"writing\", filename)\n",
    "    with open(filename, 'wb') as file: \n",
    "        for chunk in req.iter_content(chunk_size=(8192)):\n",
    "            if chunk:\n",
    "                file.write(chunk)\n",
    "    file.close()\n",
    "    print(filename, \"has been downloaded to\", getcwd())\n",
    "\n"
   ]
  },
  {
   "cell_type": "code",
   "execution_count": 10,
   "metadata": {},
   "outputs": [],
   "source": [
    "# WARNING: This file is about 1.5 GB in size it takes long time to download\n",
    "\n",
    "# url = 'http://download.geofabrik.de/europe/portugal-latest.osm.pbf'\n",
    "# save_to = os.path.join(os.getcwd(), path_inputs)\n",
    "# filename = 'portugal-latest.osm.pbf'\n",
    "\n",
    "# download_osm_file(url, save_to, filename)"
   ]
  },
  {
   "cell_type": "markdown",
   "metadata": {},
   "source": [
    "# GET NETWORK from OSM Data\n"
   ]
  },
  {
   "cell_type": "markdown",
   "metadata": {},
   "source": [
    "## All country\n",
    "WARMING: This process can take a long time and a lot of memory. It is recommended to use a smaller area to test the process."
   ]
  },
  {
   "cell_type": "code",
   "execution_count": 11,
   "metadata": {},
   "outputs": [],
   "source": [
    "# osm = pyrosm.OSM(save_to + '\\portugal-latest.osm.pbf') \n",
    "# portugal_network_all = osm.get_network(network_type = 'all')"
   ]
  },
  {
   "cell_type": "markdown",
   "metadata": {},
   "source": [
    "## Selected area based on shapefile \n",
    "(Example: Porto municipality)"
   ]
  },
  {
   "cell_type": "code",
   "execution_count": 23,
   "metadata": {},
   "outputs": [
    {
     "data": {
      "text/html": [
       "<div>\n",
       "<style scoped>\n",
       "    .dataframe tbody tr th:only-of-type {\n",
       "        vertical-align: middle;\n",
       "    }\n",
       "\n",
       "    .dataframe tbody tr th {\n",
       "        vertical-align: top;\n",
       "    }\n",
       "\n",
       "    .dataframe thead th {\n",
       "        text-align: right;\n",
       "    }\n",
       "</style>\n",
       "<table border=\"1\" class=\"dataframe\">\n",
       "  <thead>\n",
       "    <tr style=\"text-align: right;\">\n",
       "      <th></th>\n",
       "      <th>DICO</th>\n",
       "      <th>Municipio</th>\n",
       "      <th>Distrito</th>\n",
       "      <th>N_Freguesi</th>\n",
       "      <th>NUTSIII</th>\n",
       "      <th>NUTSII</th>\n",
       "      <th>NUTSI</th>\n",
       "      <th>Alt_Max</th>\n",
       "      <th>Alt_Min</th>\n",
       "      <th>Area_ha</th>\n",
       "      <th>Perim_km</th>\n",
       "      <th>geometry</th>\n",
       "    </tr>\n",
       "  </thead>\n",
       "  <tbody>\n",
       "    <tr>\n",
       "      <th>0</th>\n",
       "      <td>0101</td>\n",
       "      <td>Águeda</td>\n",
       "      <td>Aveiro</td>\n",
       "      <td>11</td>\n",
       "      <td>Região de Aveiro</td>\n",
       "      <td>Centro</td>\n",
       "      <td>Continente</td>\n",
       "      <td>762</td>\n",
       "      <td>4</td>\n",
       "      <td>33527.44</td>\n",
       "      <td>105</td>\n",
       "      <td>MULTIPOLYGON (((-20560.758 113803.912, -20550....</td>\n",
       "    </tr>\n",
       "    <tr>\n",
       "      <th>1</th>\n",
       "      <td>0102</td>\n",
       "      <td>Albergaria-a-Velha</td>\n",
       "      <td>Aveiro</td>\n",
       "      <td>6</td>\n",
       "      <td>Região de Aveiro</td>\n",
       "      <td>Centro</td>\n",
       "      <td>Continente</td>\n",
       "      <td>425</td>\n",
       "      <td>0</td>\n",
       "      <td>15882.50</td>\n",
       "      <td>82</td>\n",
       "      <td>MULTIPOLYGON (((-26966.491 123573.381, -26964....</td>\n",
       "    </tr>\n",
       "    <tr>\n",
       "      <th>2</th>\n",
       "      <td>0103</td>\n",
       "      <td>Anadia</td>\n",
       "      <td>Aveiro</td>\n",
       "      <td>10</td>\n",
       "      <td>Região de Aveiro</td>\n",
       "      <td>Centro</td>\n",
       "      <td>Continente</td>\n",
       "      <td>525</td>\n",
       "      <td>13</td>\n",
       "      <td>21663.48</td>\n",
       "      <td>75</td>\n",
       "      <td>MULTIPOLYGON (((-17449.514 93729.645, -17450.2...</td>\n",
       "    </tr>\n",
       "  </tbody>\n",
       "</table>\n",
       "</div>"
      ],
      "text/plain": [
       "   DICO           Municipio Distrito  N_Freguesi           NUTSIII  NUTSII  \\\n",
       "0  0101              Águeda   Aveiro          11  Região de Aveiro  Centro   \n",
       "1  0102  Albergaria-a-Velha   Aveiro           6  Região de Aveiro  Centro   \n",
       "2  0103              Anadia   Aveiro          10  Região de Aveiro  Centro   \n",
       "\n",
       "        NUTSI  Alt_Max  Alt_Min   Area_ha  Perim_km  \\\n",
       "0  Continente      762        4  33527.44       105   \n",
       "1  Continente      425        0  15882.50        82   \n",
       "2  Continente      525       13  21663.48        75   \n",
       "\n",
       "                                            geometry  \n",
       "0  MULTIPOLYGON (((-20560.758 113803.912, -20550....  \n",
       "1  MULTIPOLYGON (((-26966.491 123573.381, -26964....  \n",
       "2  MULTIPOLYGON (((-17449.514 93729.645, -17450.2...  "
      ]
     },
     "execution_count": 23,
     "metadata": {},
     "output_type": "execute_result"
    }
   ],
   "source": [
    "# Get Porto municipality polygon boyndary from official administrative data\n",
    "\n",
    "gdf_Cont_Mun_CAOP2023 = gpd.read_file(path_inputs + r'\\Continente_CAOP2023.gpkg', layer='Cont_Mun_CAOP2023')\n",
    "gdf_Cont_Mun_CAOP2023.head(3)"
   ]
  },
  {
   "cell_type": "code",
   "execution_count": 24,
   "metadata": {},
   "outputs": [
    {
     "data": {
      "text/html": [
       "<div>\n",
       "<style scoped>\n",
       "    .dataframe tbody tr th:only-of-type {\n",
       "        vertical-align: middle;\n",
       "    }\n",
       "\n",
       "    .dataframe tbody tr th {\n",
       "        vertical-align: top;\n",
       "    }\n",
       "\n",
       "    .dataframe thead th {\n",
       "        text-align: right;\n",
       "    }\n",
       "</style>\n",
       "<table border=\"1\" class=\"dataframe\">\n",
       "  <thead>\n",
       "    <tr style=\"text-align: right;\">\n",
       "      <th></th>\n",
       "      <th>DICO</th>\n",
       "      <th>Municipio</th>\n",
       "      <th>geometry</th>\n",
       "      <th>Distrito</th>\n",
       "      <th>N_Freguesi</th>\n",
       "      <th>NUTSIII</th>\n",
       "      <th>NUTSII</th>\n",
       "      <th>NUTSI</th>\n",
       "      <th>Alt_Max</th>\n",
       "      <th>Alt_Min</th>\n",
       "      <th>Area_ha</th>\n",
       "      <th>Perim_km</th>\n",
       "    </tr>\n",
       "  </thead>\n",
       "  <tbody>\n",
       "    <tr>\n",
       "      <th>0</th>\n",
       "      <td>0101</td>\n",
       "      <td>Águeda</td>\n",
       "      <td>POLYGON ((-20560.758 113803.912, -20550.798 11...</td>\n",
       "      <td>Aveiro</td>\n",
       "      <td>11</td>\n",
       "      <td>Região de Aveiro</td>\n",
       "      <td>Centro</td>\n",
       "      <td>Continente</td>\n",
       "      <td>762</td>\n",
       "      <td>4</td>\n",
       "      <td>33527.44</td>\n",
       "      <td>105</td>\n",
       "    </tr>\n",
       "    <tr>\n",
       "      <th>1</th>\n",
       "      <td>0102</td>\n",
       "      <td>Albergaria-a-Velha</td>\n",
       "      <td>POLYGON ((-26966.491 123573.381, -26964.759 12...</td>\n",
       "      <td>Aveiro</td>\n",
       "      <td>6</td>\n",
       "      <td>Região de Aveiro</td>\n",
       "      <td>Centro</td>\n",
       "      <td>Continente</td>\n",
       "      <td>425</td>\n",
       "      <td>0</td>\n",
       "      <td>15882.50</td>\n",
       "      <td>82</td>\n",
       "    </tr>\n",
       "    <tr>\n",
       "      <th>2</th>\n",
       "      <td>0103</td>\n",
       "      <td>Anadia</td>\n",
       "      <td>POLYGON ((-17449.514 93729.645, -17450.254 937...</td>\n",
       "      <td>Aveiro</td>\n",
       "      <td>10</td>\n",
       "      <td>Região de Aveiro</td>\n",
       "      <td>Centro</td>\n",
       "      <td>Continente</td>\n",
       "      <td>525</td>\n",
       "      <td>13</td>\n",
       "      <td>21663.48</td>\n",
       "      <td>75</td>\n",
       "    </tr>\n",
       "  </tbody>\n",
       "</table>\n",
       "</div>"
      ],
      "text/plain": [
       "   DICO           Municipio  \\\n",
       "0  0101              Águeda   \n",
       "1  0102  Albergaria-a-Velha   \n",
       "2  0103              Anadia   \n",
       "\n",
       "                                            geometry Distrito  N_Freguesi  \\\n",
       "0  POLYGON ((-20560.758 113803.912, -20550.798 11...   Aveiro          11   \n",
       "1  POLYGON ((-26966.491 123573.381, -26964.759 12...   Aveiro           6   \n",
       "2  POLYGON ((-17449.514 93729.645, -17450.254 937...   Aveiro          10   \n",
       "\n",
       "            NUTSIII  NUTSII       NUTSI  Alt_Max  Alt_Min   Area_ha  Perim_km  \n",
       "0  Região de Aveiro  Centro  Continente      762        4  33527.44       105  \n",
       "1  Região de Aveiro  Centro  Continente      425        0  15882.50        82  \n",
       "2  Região de Aveiro  Centro  Continente      525       13  21663.48        75  "
      ]
     },
     "execution_count": 24,
     "metadata": {},
     "output_type": "execute_result"
    }
   ],
   "source": [
    "gdf_Cont_Mun_CAOP2023 = gdf_Cont_Mun_CAOP2023.dissolve(by=['DICO', 'Municipio'])\n",
    "gdf_Cont_Mun_CAOP2023.reset_index(inplace=True)\n",
    "gdf_Cont_Mun_CAOP2023.head(3)"
   ]
  },
  {
   "cell_type": "code",
   "execution_count": 25,
   "metadata": {},
   "outputs": [
    {
     "data": {
      "text/html": [
       "<div>\n",
       "<style scoped>\n",
       "    .dataframe tbody tr th:only-of-type {\n",
       "        vertical-align: middle;\n",
       "    }\n",
       "\n",
       "    .dataframe tbody tr th {\n",
       "        vertical-align: top;\n",
       "    }\n",
       "\n",
       "    .dataframe thead th {\n",
       "        text-align: right;\n",
       "    }\n",
       "</style>\n",
       "<table border=\"1\" class=\"dataframe\">\n",
       "  <thead>\n",
       "    <tr style=\"text-align: right;\">\n",
       "      <th></th>\n",
       "      <th>DICO</th>\n",
       "      <th>Municipio</th>\n",
       "      <th>geometry</th>\n",
       "      <th>Distrito</th>\n",
       "      <th>N_Freguesi</th>\n",
       "      <th>NUTSIII</th>\n",
       "      <th>NUTSII</th>\n",
       "      <th>NUTSI</th>\n",
       "      <th>Alt_Max</th>\n",
       "      <th>Alt_Min</th>\n",
       "      <th>Area_ha</th>\n",
       "      <th>Perim_km</th>\n",
       "    </tr>\n",
       "  </thead>\n",
       "  <tbody>\n",
       "    <tr>\n",
       "      <th>189</th>\n",
       "      <td>1312</td>\n",
       "      <td>Porto</td>\n",
       "      <td>POLYGON ((-39467.364 168625.134, -39370.344 16...</td>\n",
       "      <td>Porto</td>\n",
       "      <td>7</td>\n",
       "      <td>Área Metropolitana do Porto</td>\n",
       "      <td>Norte</td>\n",
       "      <td>Continente</td>\n",
       "      <td>157</td>\n",
       "      <td>0</td>\n",
       "      <td>4142.02</td>\n",
       "      <td>36</td>\n",
       "    </tr>\n",
       "  </tbody>\n",
       "</table>\n",
       "</div>"
      ],
      "text/plain": [
       "     DICO Municipio                                           geometry  \\\n",
       "189  1312     Porto  POLYGON ((-39467.364 168625.134, -39370.344 16...   \n",
       "\n",
       "    Distrito  N_Freguesi                      NUTSIII NUTSII       NUTSI  \\\n",
       "189    Porto           7  Área Metropolitana do Porto  Norte  Continente   \n",
       "\n",
       "     Alt_Max  Alt_Min  Area_ha  Perim_km  \n",
       "189      157        0  4142.02        36  "
      ]
     },
     "execution_count": 25,
     "metadata": {},
     "output_type": "execute_result"
    }
   ],
   "source": [
    "gdf_Cont_Mun_Porto_CAOP2023 = gdf_Cont_Mun_CAOP2023[gdf_Cont_Mun_CAOP2023['Municipio'] == 'Porto']\n",
    "gdf_Cont_Mun_Porto_CAOP2023.head(3)"
   ]
  },
  {
   "cell_type": "code",
   "execution_count": 26,
   "metadata": {},
   "outputs": [
    {
     "data": {
      "text/plain": [
       "<Axes: >"
      ]
     },
     "execution_count": 26,
     "metadata": {},
     "output_type": "execute_result"
    },
    {
     "data": {
      "image/png": "[encoded data removed]",
      "text/plain": [
       "<Figure size 640x480 with 1 Axes>"
      ]
     },
     "metadata": {},
     "output_type": "display_data"
    }
   ],
   "source": [
    "gdf_Cont_Mun_Porto_CAOP2023.plot()"
   ]
  },
  {
   "cell_type": "code",
   "execution_count": 27,
   "metadata": {},
   "outputs": [
    {
     "data": {
      "text/plain": [
       "<Axes: >"
      ]
     },
     "execution_count": 27,
     "metadata": {},
     "output_type": "execute_result"
    },
    {
     "data": {
      "image/png": "[encoded data removed]",
      "text/plain": [
       "<Figure size 640x480 with 1 Axes>"
      ]
     },
     "metadata": {},
     "output_type": "display_data"
    }
   ],
   "source": [
    "gdf_Cont_Mun_Porto_CAOP2023_WGS84 = gdf_Cont_Mun_Porto_CAOP2023.to_crs(epsg=4326)\n",
    "gdf_Cont_Mun_Porto_CAOP2023_WGS84.plot()"
   ]
  },
  {
   "cell_type": "code",
   "execution_count": 28,
   "metadata": {},
   "outputs": [
    {
     "data": {
      "text/plain": [
       "189    POLYGON ((-8.60353 41.18586, -8.60237 41.18526...\n",
       "Name: geometry, dtype: geometry"
      ]
     },
     "execution_count": 28,
     "metadata": {},
     "output_type": "execute_result"
    }
   ],
   "source": [
    "gdf_Cont_Mun_Porto_CAOP2023_WGS84.geometry"
   ]
  },
  {
   "cell_type": "code",
   "execution_count": 29,
   "metadata": {},
   "outputs": [
    {
     "data": {
      "text/plain": [
       "189    Polygon\n",
       "dtype: object"
      ]
     },
     "execution_count": 29,
     "metadata": {},
     "output_type": "execute_result"
    }
   ],
   "source": [
    "gdf_Cont_Mun_Porto_CAOP2023_WGS84.geometry.type "
   ]
  },
  {
   "cell_type": "code",
   "execution_count": 84,
   "metadata": {},
   "outputs": [],
   "source": [
    "porto_network_all = ox.graph_from_polygon(gdf_Cont_Mun_Porto_CAOP2023_WGS84.iloc[0]['geometry'], network_type='drive', simplify=True, retain_all=True, truncate_by_edge=True)\n",
    "porto_network_all_nodes, porto_network_all_edges = ox.graph_to_gdfs(porto_network_all, nodes=True, edges=True)"
   ]
  },
  {
   "cell_type": "markdown",
   "metadata": {},
   "source": [
    "# GET OD MATRIX DISTANCES OPTION 1 - OSMNX"
   ]
  },
  {
   "cell_type": "code",
   "execution_count": 96,
   "metadata": {},
   "outputs": [],
   "source": [
    "# Create fake data as our origin and destination points\n",
    "\n",
    "from shapely.geometry import Point, Polygon\n",
    "\n",
    "def Random_Points_in_Bounds(polygon, number):   \n",
    "    minx, miny, maxx, maxy = polygon.bounds\n",
    "    x = np.random.uniform( minx, maxx, number )\n",
    "    y = np.random.uniform( miny, maxy, number )\n",
    "    return x, y\n",
    "\n",
    "\n",
    "x_o,y_o = Random_Points_in_Bounds(gdf_Cont_Mun_Porto_CAOP2023_WGS84.iloc[0]['geometry'], 10)\n",
    "df_origin = pd.DataFrame()\n",
    "df_origin['points'] = list(zip(x_o,y_o))\n",
    "df_origin['points'] = df_origin['points'].apply(Point)\n",
    "df_origin.reset_index(inplace=True)\n",
    "df_origin.rename(columns={'index' : 'origin_id'}, inplace=True)\n",
    "gdf_origin = gpd.GeoDataFrame(df_origin, geometry='points')\n",
    "# gdf_origin.rename(columns={'points' : 'geometry'}, inplace=True)\n",
    "\n",
    "x_d,y_d = Random_Points_in_Bounds(gdf_Cont_Mun_Porto_CAOP2023_WGS84.iloc[0]['geometry'], 10)\n",
    "df_destinations = pd.DataFrame()\n",
    "df_destinations['points'] = list(zip(x_d,y_d))\n",
    "df_destinations['points'] = df_destinations['points'].apply(Point)\n",
    "df_destinations.reset_index(inplace=True)\n",
    "df_destinations.rename(columns={'index' : 'destination_id'}, inplace=True)\n",
    "gdf_destinations = gpd.GeoDataFrame(df_destinations, geometry='points')\n"
   ]
  },
  {
   "cell_type": "code",
   "execution_count": 100,
   "metadata": {},
   "outputs": [],
   "source": [
    "# IMPORTANT NOTE\n",
    "# When use the OSMNx library routing capabilities, it is necessary to convert the origin and destination points to the nearest nodes in the network\n",
    "# thus, the path between the real location and the nearest node is not considered in the routing distance (or time) calculation!\n",
    "# in fact, routing is only possible between nodes in the network, not directly between any point in the map\n",
    "# this piece of code will find the nearest node on the network for each origin and destination real point\n",
    "\n",
    "def nearest_node(a,b):\n",
    "    nearest_node, dist=ox.nearest_nodes(porto_network_all, a,b, return_dist=True)  \n",
    "    return nearest_node\n",
    "\n",
    "gdf_origin['NX_node'] = np.vectorize(nearest_node)(gdf_origin.points.x, gdf_origin.points.y)\n",
    "gdf_destinations['NX_node'] = np.vectorize(nearest_node)(gdf_destinations.points.x, gdf_destinations.points.y)\n"
   ]
  },
  {
   "cell_type": "code",
   "execution_count": 113,
   "metadata": {},
   "outputs": [],
   "source": [
    "# Create all combinations of origins and destinations\n",
    "od = list(itertools.product(gdf_origin.index, gdf_destinations.index))\n",
    "\n",
    "# Create a DataFrame with these pairs\n",
    "df_od = pd.DataFrame(od, columns=['origin_id', 'destination_id'])\n",
    "\n",
    "# Merge the origin and destination GeoDataFrames to get geometry for each pair\n",
    "df_od = df_od.merge(gdf_origin, left_on='origin_id', right_on='origin_id', suffixes=('_origin', '_destination'))\n",
    "df_od = df_od.merge(gdf_destinations, left_on='destination_id', right_on='destination_id',  suffixes=('_origin', '_destination'))\n"
   ]
  },
  {
   "cell_type": "code",
   "execution_count": 114,
   "metadata": {},
   "outputs": [
    {
     "name": "stderr",
     "output_type": "stream",
     "text": [
      "C:\\Users\\pbatista\\AppData\\Local\\Temp\\ipykernel_12988\\4020017502.py:4: SettingWithCopyWarning: \n",
      "A value is trying to be set on a copy of a slice from a DataFrame\n",
      "\n",
      "See the caveats in the documentation: https://pandas.pydata.org/pandas-docs/stable/user_guide/indexing.html#returning-a-view-versus-a-copy\n",
      "  origin_nodelist_df.drop(columns=['street_count', 'highway', 'ref'], inplace=True)\n",
      "C:\\Users\\pbatista\\AppData\\Local\\Temp\\ipykernel_12988\\4020017502.py:5: SettingWithCopyWarning: \n",
      "A value is trying to be set on a copy of a slice from a DataFrame\n",
      "\n",
      "See the caveats in the documentation: https://pandas.pydata.org/pandas-docs/stable/user_guide/indexing.html#returning-a-view-versus-a-copy\n",
      "  origin_nodelist_df.rename(columns={'osmid' : 'osmid_origin',\n",
      "C:\\Users\\pbatista\\AppData\\Local\\Temp\\ipykernel_12988\\4020017502.py:15: SettingWithCopyWarning: \n",
      "A value is trying to be set on a copy of a slice from a DataFrame\n",
      "\n",
      "See the caveats in the documentation: https://pandas.pydata.org/pandas-docs/stable/user_guide/indexing.html#returning-a-view-versus-a-copy\n",
      "  destinations_nodelist_df.drop(columns=['street_count', 'highway', 'ref'], inplace=True)\n",
      "C:\\Users\\pbatista\\AppData\\Local\\Temp\\ipykernel_12988\\4020017502.py:16: SettingWithCopyWarning: \n",
      "A value is trying to be set on a copy of a slice from a DataFrame\n",
      "\n",
      "See the caveats in the documentation: https://pandas.pydata.org/pandas-docs/stable/user_guide/indexing.html#returning-a-view-versus-a-copy\n",
      "  destinations_nodelist_df.rename(columns={'osmid' : 'osmid_destination',\n"
     ]
    },
    {
     "data": {
      "text/html": [
       "<div>\n",
       "<style scoped>\n",
       "    .dataframe tbody tr th:only-of-type {\n",
       "        vertical-align: middle;\n",
       "    }\n",
       "\n",
       "    .dataframe tbody tr th {\n",
       "        vertical-align: top;\n",
       "    }\n",
       "\n",
       "    .dataframe thead th {\n",
       "        text-align: right;\n",
       "    }\n",
       "</style>\n",
       "<table border=\"1\" class=\"dataframe\">\n",
       "  <thead>\n",
       "    <tr style=\"text-align: right;\">\n",
       "      <th></th>\n",
       "      <th>origin_id</th>\n",
       "      <th>destination_id</th>\n",
       "      <th>points_origin</th>\n",
       "      <th>NX_node_origin</th>\n",
       "      <th>points_destination</th>\n",
       "      <th>NX_node_destination</th>\n",
       "      <th>osmid_origin</th>\n",
       "      <th>y_node_origin</th>\n",
       "      <th>x_node_origin</th>\n",
       "      <th>geometry_node_origin</th>\n",
       "      <th>osmid_destination</th>\n",
       "      <th>y_node_destination</th>\n",
       "      <th>x_node_destination</th>\n",
       "      <th>geometry_node_destination</th>\n",
       "    </tr>\n",
       "  </thead>\n",
       "  <tbody>\n",
       "    <tr>\n",
       "      <th>0</th>\n",
       "      <td>0</td>\n",
       "      <td>0</td>\n",
       "      <td>POINT (-8.56418 41.14659)</td>\n",
       "      <td>2583505067</td>\n",
       "      <td>POINT (-8.59828 41.17033)</td>\n",
       "      <td>4573702097</td>\n",
       "      <td>2583505067</td>\n",
       "      <td>41.146523</td>\n",
       "      <td>-8.566702</td>\n",
       "      <td>POINT (-8.56670 41.14652)</td>\n",
       "      <td>4573702097</td>\n",
       "      <td>41.170446</td>\n",
       "      <td>-8.598315</td>\n",
       "      <td>POINT (-8.59831 41.17045)</td>\n",
       "    </tr>\n",
       "    <tr>\n",
       "      <th>1</th>\n",
       "      <td>0</td>\n",
       "      <td>1</td>\n",
       "      <td>POINT (-8.56418 41.14659)</td>\n",
       "      <td>2583505067</td>\n",
       "      <td>POINT (-8.60814 41.17175)</td>\n",
       "      <td>504782514</td>\n",
       "      <td>2583505067</td>\n",
       "      <td>41.146523</td>\n",
       "      <td>-8.566702</td>\n",
       "      <td>POINT (-8.56670 41.14652)</td>\n",
       "      <td>504782514</td>\n",
       "      <td>41.172216</td>\n",
       "      <td>-8.607801</td>\n",
       "      <td>POINT (-8.60780 41.17222)</td>\n",
       "    </tr>\n",
       "    <tr>\n",
       "      <th>2</th>\n",
       "      <td>0</td>\n",
       "      <td>2</td>\n",
       "      <td>POINT (-8.56418 41.14659)</td>\n",
       "      <td>2583505067</td>\n",
       "      <td>POINT (-8.57371 41.17798)</td>\n",
       "      <td>1731170737</td>\n",
       "      <td>2583505067</td>\n",
       "      <td>41.146523</td>\n",
       "      <td>-8.566702</td>\n",
       "      <td>POINT (-8.56670 41.14652)</td>\n",
       "      <td>1731170737</td>\n",
       "      <td>41.177672</td>\n",
       "      <td>-8.573596</td>\n",
       "      <td>POINT (-8.57360 41.17767)</td>\n",
       "    </tr>\n",
       "    <tr>\n",
       "      <th>3</th>\n",
       "      <td>0</td>\n",
       "      <td>3</td>\n",
       "      <td>POINT (-8.56418 41.14659)</td>\n",
       "      <td>2583505067</td>\n",
       "      <td>POINT (-8.67705 41.17285)</td>\n",
       "      <td>301110290</td>\n",
       "      <td>2583505067</td>\n",
       "      <td>41.146523</td>\n",
       "      <td>-8.566702</td>\n",
       "      <td>POINT (-8.56670 41.14652)</td>\n",
       "      <td>301110290</td>\n",
       "      <td>41.172927</td>\n",
       "      <td>-8.674313</td>\n",
       "      <td>POINT (-8.67431 41.17293)</td>\n",
       "    </tr>\n",
       "    <tr>\n",
       "      <th>4</th>\n",
       "      <td>0</td>\n",
       "      <td>4</td>\n",
       "      <td>POINT (-8.56418 41.14659)</td>\n",
       "      <td>2583505067</td>\n",
       "      <td>POINT (-8.64504 41.16249)</td>\n",
       "      <td>4505293700</td>\n",
       "      <td>2583505067</td>\n",
       "      <td>41.146523</td>\n",
       "      <td>-8.566702</td>\n",
       "      <td>POINT (-8.56670 41.14652)</td>\n",
       "      <td>4505293700</td>\n",
       "      <td>41.162147</td>\n",
       "      <td>-8.645205</td>\n",
       "      <td>POINT (-8.64521 41.16215)</td>\n",
       "    </tr>\n",
       "    <tr>\n",
       "      <th>5</th>\n",
       "      <td>0</td>\n",
       "      <td>5</td>\n",
       "      <td>POINT (-8.56418 41.14659)</td>\n",
       "      <td>2583505067</td>\n",
       "      <td>POINT (-8.62031 41.15965)</td>\n",
       "      <td>428217533</td>\n",
       "      <td>2583505067</td>\n",
       "      <td>41.146523</td>\n",
       "      <td>-8.566702</td>\n",
       "      <td>POINT (-8.56670 41.14652)</td>\n",
       "      <td>428217533</td>\n",
       "      <td>41.159241</td>\n",
       "      <td>-8.620276</td>\n",
       "      <td>POINT (-8.62028 41.15924)</td>\n",
       "    </tr>\n",
       "    <tr>\n",
       "      <th>6</th>\n",
       "      <td>0</td>\n",
       "      <td>6</td>\n",
       "      <td>POINT (-8.56418 41.14659)</td>\n",
       "      <td>2583505067</td>\n",
       "      <td>POINT (-8.58035 41.16677)</td>\n",
       "      <td>3570147062</td>\n",
       "      <td>2583505067</td>\n",
       "      <td>41.146523</td>\n",
       "      <td>-8.566702</td>\n",
       "      <td>POINT (-8.56670 41.14652)</td>\n",
       "      <td>3570147062</td>\n",
       "      <td>41.166880</td>\n",
       "      <td>-8.581236</td>\n",
       "      <td>POINT (-8.58124 41.16688)</td>\n",
       "    </tr>\n",
       "    <tr>\n",
       "      <th>7</th>\n",
       "      <td>0</td>\n",
       "      <td>7</td>\n",
       "      <td>POINT (-8.56418 41.14659)</td>\n",
       "      <td>2583505067</td>\n",
       "      <td>POINT (-8.68312 41.14864)</td>\n",
       "      <td>4722390314</td>\n",
       "      <td>2583505067</td>\n",
       "      <td>41.146523</td>\n",
       "      <td>-8.566702</td>\n",
       "      <td>POINT (-8.56670 41.14652)</td>\n",
       "      <td>4722390314</td>\n",
       "      <td>41.151226</td>\n",
       "      <td>-8.677499</td>\n",
       "      <td>POINT (-8.67750 41.15123)</td>\n",
       "    </tr>\n",
       "    <tr>\n",
       "      <th>8</th>\n",
       "      <td>0</td>\n",
       "      <td>8</td>\n",
       "      <td>POINT (-8.56418 41.14659)</td>\n",
       "      <td>2583505067</td>\n",
       "      <td>POINT (-8.63512 41.17604)</td>\n",
       "      <td>3241070503</td>\n",
       "      <td>2583505067</td>\n",
       "      <td>41.146523</td>\n",
       "      <td>-8.566702</td>\n",
       "      <td>POINT (-8.56670 41.14652)</td>\n",
       "      <td>3241070503</td>\n",
       "      <td>41.176168</td>\n",
       "      <td>-8.634951</td>\n",
       "      <td>POINT (-8.63495 41.17617)</td>\n",
       "    </tr>\n",
       "    <tr>\n",
       "      <th>9</th>\n",
       "      <td>0</td>\n",
       "      <td>9</td>\n",
       "      <td>POINT (-8.56418 41.14659)</td>\n",
       "      <td>2583505067</td>\n",
       "      <td>POINT (-8.68331 41.14538)</td>\n",
       "      <td>1353859183</td>\n",
       "      <td>2583505067</td>\n",
       "      <td>41.146523</td>\n",
       "      <td>-8.566702</td>\n",
       "      <td>POINT (-8.56670 41.14652)</td>\n",
       "      <td>1353859183</td>\n",
       "      <td>41.148960</td>\n",
       "      <td>-8.675540</td>\n",
       "      <td>POINT (-8.67554 41.14896)</td>\n",
       "    </tr>\n",
       "    <tr>\n",
       "      <th>10</th>\n",
       "      <td>1</td>\n",
       "      <td>0</td>\n",
       "      <td>POINT (-8.58342 41.16824)</td>\n",
       "      <td>1334167596</td>\n",
       "      <td>POINT (-8.59828 41.17033)</td>\n",
       "      <td>4573702097</td>\n",
       "      <td>1334167596</td>\n",
       "      <td>41.168412</td>\n",
       "      <td>-8.583553</td>\n",
       "      <td>POINT (-8.58355 41.16841)</td>\n",
       "      <td>4573702097</td>\n",
       "      <td>41.170446</td>\n",
       "      <td>-8.598315</td>\n",
       "      <td>POINT (-8.59831 41.17045)</td>\n",
       "    </tr>\n",
       "    <tr>\n",
       "      <th>11</th>\n",
       "      <td>1</td>\n",
       "      <td>1</td>\n",
       "      <td>POINT (-8.58342 41.16824)</td>\n",
       "      <td>1334167596</td>\n",
       "      <td>POINT (-8.60814 41.17175)</td>\n",
       "      <td>504782514</td>\n",
       "      <td>1334167596</td>\n",
       "      <td>41.168412</td>\n",
       "      <td>-8.583553</td>\n",
       "      <td>POINT (-8.58355 41.16841)</td>\n",
       "      <td>504782514</td>\n",
       "      <td>41.172216</td>\n",
       "      <td>-8.607801</td>\n",
       "      <td>POINT (-8.60780 41.17222)</td>\n",
       "    </tr>\n",
       "    <tr>\n",
       "      <th>12</th>\n",
       "      <td>1</td>\n",
       "      <td>2</td>\n",
       "      <td>POINT (-8.58342 41.16824)</td>\n",
       "      <td>1334167596</td>\n",
       "      <td>POINT (-8.57371 41.17798)</td>\n",
       "      <td>1731170737</td>\n",
       "      <td>1334167596</td>\n",
       "      <td>41.168412</td>\n",
       "      <td>-8.583553</td>\n",
       "      <td>POINT (-8.58355 41.16841)</td>\n",
       "      <td>1731170737</td>\n",
       "      <td>41.177672</td>\n",
       "      <td>-8.573596</td>\n",
       "      <td>POINT (-8.57360 41.17767)</td>\n",
       "    </tr>\n",
       "    <tr>\n",
       "      <th>13</th>\n",
       "      <td>1</td>\n",
       "      <td>3</td>\n",
       "      <td>POINT (-8.58342 41.16824)</td>\n",
       "      <td>1334167596</td>\n",
       "      <td>POINT (-8.67705 41.17285)</td>\n",
       "      <td>301110290</td>\n",
       "      <td>1334167596</td>\n",
       "      <td>41.168412</td>\n",
       "      <td>-8.583553</td>\n",
       "      <td>POINT (-8.58355 41.16841)</td>\n",
       "      <td>301110290</td>\n",
       "      <td>41.172927</td>\n",
       "      <td>-8.674313</td>\n",
       "      <td>POINT (-8.67431 41.17293)</td>\n",
       "    </tr>\n",
       "    <tr>\n",
       "      <th>14</th>\n",
       "      <td>1</td>\n",
       "      <td>4</td>\n",
       "      <td>POINT (-8.58342 41.16824)</td>\n",
       "      <td>1334167596</td>\n",
       "      <td>POINT (-8.64504 41.16249)</td>\n",
       "      <td>4505293700</td>\n",
       "      <td>1334167596</td>\n",
       "      <td>41.168412</td>\n",
       "      <td>-8.583553</td>\n",
       "      <td>POINT (-8.58355 41.16841)</td>\n",
       "      <td>4505293700</td>\n",
       "      <td>41.162147</td>\n",
       "      <td>-8.645205</td>\n",
       "      <td>POINT (-8.64521 41.16215)</td>\n",
       "    </tr>\n",
       "  </tbody>\n",
       "</table>\n",
       "</div>"
      ],
      "text/plain": [
       "    origin_id  destination_id              points_origin  NX_node_origin  \\\n",
       "0           0               0  POINT (-8.56418 41.14659)      2583505067   \n",
       "1           0               1  POINT (-8.56418 41.14659)      2583505067   \n",
       "2           0               2  POINT (-8.56418 41.14659)      2583505067   \n",
       "3           0               3  POINT (-8.56418 41.14659)      2583505067   \n",
       "4           0               4  POINT (-8.56418 41.14659)      2583505067   \n",
       "5           0               5  POINT (-8.56418 41.14659)      2583505067   \n",
       "6           0               6  POINT (-8.56418 41.14659)      2583505067   \n",
       "7           0               7  POINT (-8.56418 41.14659)      2583505067   \n",
       "8           0               8  POINT (-8.56418 41.14659)      2583505067   \n",
       "9           0               9  POINT (-8.56418 41.14659)      2583505067   \n",
       "10          1               0  POINT (-8.58342 41.16824)      1334167596   \n",
       "11          1               1  POINT (-8.58342 41.16824)      1334167596   \n",
       "12          1               2  POINT (-8.58342 41.16824)      1334167596   \n",
       "13          1               3  POINT (-8.58342 41.16824)      1334167596   \n",
       "14          1               4  POINT (-8.58342 41.16824)      1334167596   \n",
       "\n",
       "           points_destination  NX_node_destination  osmid_origin  \\\n",
       "0   POINT (-8.59828 41.17033)           4573702097    2583505067   \n",
       "1   POINT (-8.60814 41.17175)            504782514    2583505067   \n",
       "2   POINT (-8.57371 41.17798)           1731170737    2583505067   \n",
       "3   POINT (-8.67705 41.17285)            301110290    2583505067   \n",
       "4   POINT (-8.64504 41.16249)           4505293700    2583505067   \n",
       "5   POINT (-8.62031 41.15965)            428217533    2583505067   \n",
       "6   POINT (-8.58035 41.16677)           3570147062    2583505067   \n",
       "7   POINT (-8.68312 41.14864)           4722390314    2583505067   \n",
       "8   POINT (-8.63512 41.17604)           3241070503    2583505067   \n",
       "9   POINT (-8.68331 41.14538)           1353859183    2583505067   \n",
       "10  POINT (-8.59828 41.17033)           4573702097    1334167596   \n",
       "11  POINT (-8.60814 41.17175)            504782514    1334167596   \n",
       "12  POINT (-8.57371 41.17798)           1731170737    1334167596   \n",
       "13  POINT (-8.67705 41.17285)            301110290    1334167596   \n",
       "14  POINT (-8.64504 41.16249)           4505293700    1334167596   \n",
       "\n",
       "    y_node_origin  x_node_origin       geometry_node_origin  \\\n",
       "0       41.146523      -8.566702  POINT (-8.56670 41.14652)   \n",
       "1       41.146523      -8.566702  POINT (-8.56670 41.14652)   \n",
       "2       41.146523      -8.566702  POINT (-8.56670 41.14652)   \n",
       "3       41.146523      -8.566702  POINT (-8.56670 41.14652)   \n",
       "4       41.146523      -8.566702  POINT (-8.56670 41.14652)   \n",
       "5       41.146523      -8.566702  POINT (-8.56670 41.14652)   \n",
       "6       41.146523      -8.566702  POINT (-8.56670 41.14652)   \n",
       "7       41.146523      -8.566702  POINT (-8.56670 41.14652)   \n",
       "8       41.146523      -8.566702  POINT (-8.56670 41.14652)   \n",
       "9       41.146523      -8.566702  POINT (-8.56670 41.14652)   \n",
       "10      41.168412      -8.583553  POINT (-8.58355 41.16841)   \n",
       "11      41.168412      -8.583553  POINT (-8.58355 41.16841)   \n",
       "12      41.168412      -8.583553  POINT (-8.58355 41.16841)   \n",
       "13      41.168412      -8.583553  POINT (-8.58355 41.16841)   \n",
       "14      41.168412      -8.583553  POINT (-8.58355 41.16841)   \n",
       "\n",
       "    osmid_destination  y_node_destination  x_node_destination  \\\n",
       "0          4573702097           41.170446           -8.598315   \n",
       "1           504782514           41.172216           -8.607801   \n",
       "2          1731170737           41.177672           -8.573596   \n",
       "3           301110290           41.172927           -8.674313   \n",
       "4          4505293700           41.162147           -8.645205   \n",
       "5           428217533           41.159241           -8.620276   \n",
       "6          3570147062           41.166880           -8.581236   \n",
       "7          4722390314           41.151226           -8.677499   \n",
       "8          3241070503           41.176168           -8.634951   \n",
       "9          1353859183           41.148960           -8.675540   \n",
       "10         4573702097           41.170446           -8.598315   \n",
       "11          504782514           41.172216           -8.607801   \n",
       "12         1731170737           41.177672           -8.573596   \n",
       "13          301110290           41.172927           -8.674313   \n",
       "14         4505293700           41.162147           -8.645205   \n",
       "\n",
       "    geometry_node_destination  \n",
       "0   POINT (-8.59831 41.17045)  \n",
       "1   POINT (-8.60780 41.17222)  \n",
       "2   POINT (-8.57360 41.17767)  \n",
       "3   POINT (-8.67431 41.17293)  \n",
       "4   POINT (-8.64521 41.16215)  \n",
       "5   POINT (-8.62028 41.15924)  \n",
       "6   POINT (-8.58124 41.16688)  \n",
       "7   POINT (-8.67750 41.15123)  \n",
       "8   POINT (-8.63495 41.17617)  \n",
       "9   POINT (-8.67554 41.14896)  \n",
       "10  POINT (-8.59831 41.17045)  \n",
       "11  POINT (-8.60780 41.17222)  \n",
       "12  POINT (-8.57360 41.17767)  \n",
       "13  POINT (-8.67431 41.17293)  \n",
       "14  POINT (-8.64521 41.16215)  "
      ]
     },
     "execution_count": 114,
     "metadata": {},
     "output_type": "execute_result"
    }
   ],
   "source": [
    "origin_nodelist = list(gdf_origin['NX_node'].unique())\n",
    "origin_nodelist_df = porto_network_all_nodes[porto_network_all_nodes.index.isin(origin_nodelist)]\n",
    "origin_nodelist_df.reset_index(inplace=True)\n",
    "origin_nodelist_df.drop(columns=['street_count', 'highway', 'ref'], inplace=True)\n",
    "origin_nodelist_df.rename(columns={'osmid' : 'osmid_origin', \n",
    "                                   'y' : 'y_node_origin',\n",
    "                                   'x' : 'x_node_origin',\n",
    "                                    'geometry' :  'geometry_node_origin' }, inplace=True)\n",
    "\n",
    "df_od = df_od.merge(origin_nodelist_df, left_on='NX_node_origin', right_on='osmid_origin')\n",
    "\n",
    "destinations_nodelist = list(gdf_destinations['NX_node'].unique())\n",
    "destinations_nodelist_df = porto_network_all_nodes[porto_network_all_nodes.index.isin(destinations_nodelist)]\n",
    "destinations_nodelist_df.reset_index(inplace=True)\n",
    "destinations_nodelist_df.drop(columns=['street_count', 'highway', 'ref'], inplace=True)\n",
    "destinations_nodelist_df.rename(columns={'osmid' : 'osmid_destination', \n",
    "                                   'y' : 'y_node_destination',\n",
    "                                   'x' : 'x_node_destination',\n",
    "                                    'geometry' :  'geometry_node_destination' }, inplace=True)\n",
    "\n",
    "df_od = df_od.merge(destinations_nodelist_df, left_on='NX_node_destination', right_on='osmid_destination')\n",
    "\n",
    "df_od.head(15)\n",
    "\n"
   ]
  },
  {
   "cell_type": "markdown",
   "metadata": {},
   "source": [
    "## Apply the short path algorithm from osmnx"
   ]
  },
  {
   "cell_type": "code",
   "execution_count": 115,
   "metadata": {},
   "outputs": [
    {
     "name": "stdout",
     "output_type": "stream",
     "text": [
      "862 ms ± 22.5 ms per loop (mean ± std. dev. of 7 runs, 1 loop each)\n"
     ]
    }
   ],
   "source": [
    "def path_length(row):\n",
    "    return nx.shortest_path_length(porto_network_all, row['NX_node_origin'], row['NX_node_destination'], weight='length')\n",
    "\n",
    "# apply the function to our OD data\n",
    "%timeit df_od['path_length'] = df_od.apply(path_length, axis=1)"
   ]
  },
  {
   "cell_type": "markdown",
   "metadata": {},
   "source": [
    "# GET OD MATRIX DISTANCES OPTION 2 - PANDANA\n",
    "» Coming soon"
   ]
  },
  {
   "cell_type": "code",
   "execution_count": null,
   "metadata": {},
   "outputs": [],
   "source": []
  },
  {
   "cell_type": "markdown",
   "metadata": {},
   "source": [
    "# GET OD MATRIX TRAVEL TIME OPTION 1 - OSMNX\n",
    "» Coming soon \n",
    "\n",
    "NOTE:\n",
    "-» It requires: \n",
    "a) add the travel times using the function add_edge_speeds() to impute the speed in km/h as mean or max speed values of roads, per highway type (note that legal max speed limit cannot be a good data to estimate travel times, because it is not the same as the real speed of the road)\n",
    "b) calculate the travel times using the function add_edge_travel_time() which combines the edge speeds and distances to calculate the travel times"
   ]
  },
  {
   "cell_type": "code",
   "execution_count": null,
   "metadata": {},
   "outputs": [],
   "source": []
  }
 ],
 "metadata": {
  "kernelspec": {
   "display_name": "Python 3",
   "language": "python",
   "name": "python3"
  },
  "language_info": {
   "codemirror_mode": {
    "name": "ipython",
    "version": 3
   },
   "file_extension": ".py",
   "mimetype": "text/x-python",
   "name": "python",
   "nbconvert_exporter": "python",
   "pygments_lexer": "ipython3",
   "version": "3.10.13"
  }
 },
 "nbformat": 4,
 "nbformat_minor": 2
}
